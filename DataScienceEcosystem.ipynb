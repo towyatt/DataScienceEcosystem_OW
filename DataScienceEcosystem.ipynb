{
 "cells": [
  {
   "cell_type": "markdown",
   "id": "7303f032",
   "metadata": {},
   "source": [
    "Data Science Tools and Ecosystem\n"
   ]
  },
  {
   "cell_type": "markdown",
   "id": "82a095ad",
   "metadata": {},
   "source": [
    "In this notebook, Data Science Tools and Ecosystem are summarized."
   ]
  },
  {
   "cell_type": "markdown",
   "id": "0aea58d5",
   "metadata": {},
   "source": [
    "*Objectives:*<br>\n",
    "    - List popular languages for Data Science<br>\n",
    "    - List data science tools<br>\n",
    "    - Use arithmetic expressions<br>"
   ]
  },
  {
   "cell_type": "markdown",
   "id": "6ac1caef",
   "metadata": {},
   "source": [
    "Some of the popular languages tha Data Scientists use are: "
   ]
  },
  {
   "cell_type": "markdown",
   "id": "d68cbbfa",
   "metadata": {},
   "source": [
    "1. Pandas\n",
    "2. NumPy\n",
    "3. SciPy\n",
    "4. Tensorflow"
   ]
  },
  {
   "cell_type": "markdown",
   "id": "5ae2a823",
   "metadata": {},
   "source": [
    "| Data Science Tools |\n",
    "|-|\n",
    "|Apache Spark|\n",
    "|IBM SPSS|\n",
    "|Jupyter Notebook|"
   ]
  },
  {
   "cell_type": "markdown",
   "id": "4c1ed283",
   "metadata": {},
   "source": [
    "### Below are a few examples of evaluating arithmetic expressions in Python"
   ]
  },
  {
   "cell_type": "code",
   "execution_count": 3,
   "id": "c91fcbe9",
   "metadata": {},
   "outputs": [
    {
     "data": {
      "text/plain": [
       "17"
      ]
     },
     "execution_count": 3,
     "metadata": {},
     "output_type": "execute_result"
    }
   ],
   "source": [
    "# This a simple arithmetic expression to mutiply then add integers\n",
    "(3*4)+5"
   ]
  },
  {
   "cell_type": "code",
   "execution_count": 4,
   "id": "c09ddeed",
   "metadata": {},
   "outputs": [
    {
     "data": {
      "text/plain": [
       "3.3333333333333335"
      ]
     },
     "execution_count": 4,
     "metadata": {},
     "output_type": "execute_result"
    }
   ],
   "source": [
    "# This will convert 200 minutes to hours by diving by 60\n",
    "200/60"
   ]
  },
  {
   "cell_type": "markdown",
   "id": "98c4fa9d",
   "metadata": {},
   "source": [
    "## Author\n",
    "Orie Wyatt"
   ]
  },
  {
   "cell_type": "code",
   "execution_count": null,
   "id": "7a0c22ed",
   "metadata": {},
   "outputs": [],
   "source": []
  }
 ],
 "metadata": {
  "kernelspec": {
   "display_name": "Python 3 (ipykernel)",
   "language": "python",
   "name": "python3"
  },
  "language_info": {
   "codemirror_mode": {
    "name": "ipython",
    "version": 3
   },
   "file_extension": ".py",
   "mimetype": "text/x-python",
   "name": "python",
   "nbconvert_exporter": "python",
   "pygments_lexer": "ipython3",
   "version": "3.10.9"
  }
 },
 "nbformat": 4,
 "nbformat_minor": 5
}
